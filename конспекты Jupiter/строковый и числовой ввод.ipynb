{
 "cells": [
  {
   "cell_type": "code",
   "execution_count": 1,
   "id": "41b912df",
   "metadata": {},
   "outputs": [
    {
     "name": "stdout",
     "output_type": "stream",
     "text": [
      "Введи а=3\n",
      "Введи b=5\n",
      "Сумма чисел равна 35\n"
     ]
    }
   ],
   "source": [
    "a = input('Введи а=')\n",
    "b = input('Введи b=')\n",
    "summa = a + b\n",
    "print('Сумма чисел равна', summa)"
   ]
  },
  {
   "cell_type": "code",
   "execution_count": 2,
   "id": "ef1d757c",
   "metadata": {},
   "outputs": [
    {
     "name": "stdout",
     "output_type": "stream",
     "text": [
      "Введи а=мама\n",
      "Введи b=папа\n",
      "Сумма чисел равна мамапапа\n"
     ]
    }
   ],
   "source": [
    "a = input('Введи а=')\n",
    "b = input('Введи b=')\n",
    "summa = a + b\n",
    "print('Сумма чисел равна', summa)"
   ]
  },
  {
   "cell_type": "code",
   "execution_count": 3,
   "id": "b1e63342",
   "metadata": {},
   "outputs": [
    {
     "name": "stdout",
     "output_type": "stream",
     "text": [
      "Введи а=3\n",
      "Введи b=5\n",
      "Сумма чисел равна 8\n"
     ]
    }
   ],
   "source": [
    "a = int(input('Введи а='))\n",
    "b = int(input('Введи b='))\n",
    "summa = a + b\n",
    "print('Сумма чисел равна', summa)"
   ]
  },
  {
   "cell_type": "code",
   "execution_count": 4,
   "id": "14be4acb",
   "metadata": {},
   "outputs": [
    {
     "name": "stdout",
     "output_type": "stream",
     "text": [
      "Введи а=3\n",
      "Введи b=5\n",
      "Сумма чисел равна 8\n"
     ]
    }
   ],
   "source": [
    "a = int(input('Введи а='))\n",
    "b = int(input('Введи b='))\n",
    "print('Сумма чисел равна', a + b)"
   ]
  },
  {
   "cell_type": "code",
   "execution_count": 5,
   "id": "7a87ccdf",
   "metadata": {},
   "outputs": [
    {
     "name": "stdout",
     "output_type": "stream",
     "text": [
      "Введи а=3\n",
      "Введи b=5\n",
      "Сумма чисел равна 8\n"
     ]
    }
   ],
   "source": [
    "print('Сумма чисел равна', int(input('Введи а=')) + int(input('Введи b=')))"
   ]
  },
  {
   "cell_type": "code",
   "execution_count": null,
   "id": "05ba7717",
   "metadata": {},
   "outputs": [],
   "source": []
  }
 ],
 "metadata": {
  "kernelspec": {
   "display_name": "Python 3",
   "language": "python",
   "name": "python3"
  },
  "language_info": {
   "codemirror_mode": {
    "name": "ipython",
    "version": 3
   },
   "file_extension": ".py",
   "mimetype": "text/x-python",
   "name": "python",
   "nbconvert_exporter": "python",
   "pygments_lexer": "ipython3",
   "version": "3.8.8"
  }
 },
 "nbformat": 4,
 "nbformat_minor": 5
}
